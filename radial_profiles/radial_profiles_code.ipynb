{
 "cells": [
  {
   "cell_type": "code",
   "execution_count": null,
   "metadata": {},
   "outputs": [],
   "source": [
    "import numpy as np\n",
    "import matplotlib.pyplot as plt\n",
    "from astropy.io import fits\n",
    "\n",
    "xnew = np.linspace(-6, 6, 301)\n",
    "ynew = np.linspace(-6, 6, 301)\n",
    "\n",
    "xnew, ynew = np.meshgrid(xnew, ynew)\n",
    "\n",
    "from matplotlib.ticker import AutoMinorLocator\n",
    "\n",
    "minorLocator = AutoMinorLocator()\n",
    "\n",
    "\n",
    "def radial_profile(data, center):\n",
    "    x, y = np.indices((data.shape))\n",
    "    r = np.sqrt((x - center[0])**2 + (y - center[1])**2)\n",
    "    r = r.astype(int)\n",
    "\n",
    "    tbin = np.bincount(r.ravel(), data.ravel())\n",
    "    nr = np.bincount(r.ravel())\n",
    "    radialprofile = tbin / nr\n",
    "    return radialprofile \n",
    "\n",
    "\n",
    "fitsFile = fits.open('ILC_stack_spiders_seed_162_70-545.fits')\n",
    "img = fitsFile[0].data\n",
    "img[np.isnan(img)] = 0\n",
    "\n",
    "center = np.unravel_index(img.argmax(), img.shape)\n",
    "#center = (-fitsFile[0].header['LBOUND2']+1, -fitsFile[0].header['LBOUND1']+1)\n",
    "rad_profile = radial_profile(img, center)\n",
    "\n",
    "fig, ax = plt.subplots()\n",
    "plt.plot(rad_profile[0:150], 'x-')\n",
    "\n",
    "ax.xaxis.set_minor_locator(minorLocator)\n",
    "\n",
    "plt.tick_params(which='both', width=2)\n",
    "plt.tick_params(which='major', length=7)\n",
    "plt.tick_params(which='minor', length=4, color='r')\n",
    "plt.grid()\n",
    "#ax.set_ylabel(fitsFile[0].header['Label'] + \" (\" + fitsFile[0].header['BUNIT'] + \")\")\n",
    "ax.set_xlabel(\"Pixels\")\n",
    "plt.grid(which=\"minor\")\n",
    "plt.show()\n",
    "\n"
   ]
  },
  {
   "cell_type": "code",
   "execution_count": null,
   "metadata": {},
   "outputs": [],
   "source": [
    "\n",
    "hdul = fits.open('ILC_stack_spiders_seed_162_70-545.fits')"
   ]
  },
  {
   "cell_type": "code",
   "execution_count": null,
   "metadata": {},
   "outputs": [],
   "source": [
    "hdul.info()"
   ]
  },
  {
   "cell_type": "code",
   "execution_count": null,
   "metadata": {},
   "outputs": [],
   "source": [
    "hdr = hdul[0].header\n",
    "\n",
    "print(repr(hdr))\n",
    "\n",
    "print(-hdul[0].header['BITPIX']+1)"
   ]
  },
  {
   "cell_type": "code",
   "execution_count": null,
   "metadata": {},
   "outputs": [],
   "source": [
    "import numpy as np\n",
    "\n",
    "# Set up matplotlib\n",
    "import matplotlib.pyplot as plt\n",
    "%matplotlib inline\n",
    "\n",
    "from astropy.io import fits"
   ]
  },
  {
   "cell_type": "code",
   "execution_count": null,
   "metadata": {},
   "outputs": [],
   "source": [
    "hdu_list = fits.open('ILC_stack_spiders_seed_162_70-545.fits')\n",
    "hdu_list.info()"
   ]
  },
  {
   "cell_type": "code",
   "execution_count": null,
   "metadata": {},
   "outputs": [],
   "source": [
    "image_data = hdu_list[0].data"
   ]
  },
  {
   "cell_type": "code",
   "execution_count": null,
   "metadata": {},
   "outputs": [],
   "source": [
    "print(type(image_data))\n",
    "print(image_data.shape)"
   ]
  },
  {
   "cell_type": "code",
   "execution_count": null,
   "metadata": {},
   "outputs": [],
   "source": [
    "image_data = fits.getdata('ILC_stack_spiders_seed_162_70-545.fits')"
   ]
  },
  {
   "cell_type": "code",
   "execution_count": null,
   "metadata": {},
   "outputs": [],
   "source": [
    "print(type(image_data)) # Show the Python type for image_data\n",
    "print(image_data.shape) # Show the number of pixels per side in the 2-D image"
   ]
  },
  {
   "cell_type": "code",
   "execution_count": null,
   "metadata": {},
   "outputs": [],
   "source": [
    "\n",
    "xnew = np.linspace(-6, 6, 301)\n",
    "ynew = np.linspace(-6, 6, 301)\n",
    "\n",
    "xnew, ynew = np.meshgrid(xnew, ynew)\n",
    "#plt.imshow(image_data)\n",
    "plt.imshow(image_data,extent=[-6,6,-6,6])\n",
    "#plt.grid()\n",
    "plt.colorbar()"
   ]
  },
  {
   "cell_type": "code",
   "execution_count": 2,
   "metadata": {},
   "outputs": [
    {
     "name": "stdout",
     "output_type": "stream",
     "text": [
      "[[ 5.72657900e-07  5.40556534e-07  4.70312942e-07 ... -1.37626921e-08\n",
      "   1.92628691e-08  2.82705133e-08]\n",
      " [ 5.87024918e-07  5.90012533e-07  5.22445363e-07 ... -5.43218466e-08\n",
      "  -1.28354314e-08  1.40572430e-08]\n",
      " [ 5.53287703e-07  5.77538045e-07  5.14814972e-07 ... -5.60103523e-08\n",
      "  -3.44799646e-08 -3.02652557e-09]\n",
      " ...\n",
      " [-3.02652557e-09 -3.44799646e-08 -5.60103523e-08 ...  5.14814972e-07\n",
      "   5.77538045e-07  5.53287703e-07]\n",
      " [ 1.40572430e-08 -1.28354314e-08 -5.43218466e-08 ...  5.22445363e-07\n",
      "   5.90012533e-07  5.87024918e-07]\n",
      " [ 2.82705133e-08  1.92628691e-08 -1.37626921e-08 ...  4.70312942e-07\n",
      "   5.40556534e-07  5.72657900e-07]]\n",
      "This is x\n",
      "[[  0   0   0 ...   0   0   0]\n",
      " [  1   1   1 ...   1   1   1]\n",
      " [  2   2   2 ...   2   2   2]\n",
      " ...\n",
      " [298 298 298 ... 298 298 298]\n",
      " [299 299 299 ... 299 299 299]\n",
      " [300 300 300 ... 300 300 300]]\n",
      "This is y\n",
      "[[  0   1   2 ... 298 299 300]\n",
      " [  0   1   2 ... 298 299 300]\n",
      " [  0   1   2 ... 298 299 300]\n",
      " ...\n",
      " [  0   1   2 ... 298 299 300]\n",
      " [  0   1   2 ... 298 299 300]\n",
      " [  0   1   2 ... 298 299 300]]\n",
      "This is r\n",
      "[[212 211 210 ... 210 211 212]\n",
      " [211 210 210 ... 210 210 211]\n",
      " [210 210 209 ... 209 210 210]\n",
      " ...\n",
      " [210 210 209 ... 209 210 210]\n",
      " [211 210 210 ... 210 210 211]\n",
      " [212 211 210 ... 210 211 212]]\n",
      "This is r.ravel()\n",
      "[212 211 210 ... 210 211 212]\n",
      "This is data.ravel()\n",
      "[5.72657900e-07 5.40556534e-07 4.70312942e-07 ... 4.70312942e-07\n",
      " 5.40556534e-07 5.72657900e-07]\n",
      "This is tbin\n",
      "[  1   8  16  20  24  40  36  48  56  56  68  64  80  92  88  96  96 116\n",
      " 120 120 124 144 136 140 152 168 176 164 168 192 188 208 200 208 228 208\n",
      " 232 228 256 248 236 272 264 288 276 272 296 292 312 304 336 324 312 344\n",
      " 324 376 344 360 364 368 392 388 392 400 388 432 400 424 452 416 448 428\n",
      " 480 464 464 476 480 496 476 496 520 500 536 504 536 548 544 552 524 600\n",
      " 552 576 580 584 608 580 600 632 608 644 608 664 644 624 672 644 696 672\n",
      " 664 684 688 720 700 712 744 720 716 736 752 756 752 736 772 824 752 808\n",
      " 756 816 824 788 840 808 864 844 800 880 852 872 864 852 912 872 896 900\n",
      " 912 936 908 912 952 944 948 780 780 704 724 636 636 632 564 580 544 564\n",
      " 516 480 484 484 476 424 412 436 400 404 364 372 360 332 356 304 324 292\n",
      " 272 308 252 276 240 228 244 208 228 188 196 184 156 188 136 164 132 116\n",
      " 136  92 124  80  84  84  48  84  36  60  24  20  28   8   4]\n",
      "This is nr\n",
      "[  1   8  16  20  24  40  36  48  56  56  68  64  80  92  88  96  96 116\n",
      " 120 120 124 144 136 140 152 168 176 164 168 192 188 208 200 208 228 208\n",
      " 232 228 256 248 236 272 264 288 276 272 296 292 312 304 336 324 312 344\n",
      " 324 376 344 360 364 368 392 388 392 400 388 432 400 424 452 416 448 428\n",
      " 480 464 464 476 480 496 476 496 520 500 536 504 536 548 544 552 524 600\n",
      " 552 576 580 584 608 580 600 632 608 644 608 664 644 624 672 644 696 672\n",
      " 664 684 688 720 700 712 744 720 716 736 752 756 752 736 772 824 752 808\n",
      " 756 816 824 788 840 808 864 844 800 880 852 872 864 852 912 872 896 900\n",
      " 912 936 908 912 952 944 948 780 780 704 724 636 636 632 564 580 544 564\n",
      " 516 480 484 484 476 424 412 436 400 404 364 372 360 332 356 304 324 292\n",
      " 272 308 252 276 240 228 244 208 228 188 196 184 156 188 136 164 132 116\n",
      " 136  92 124  80  84  84  48  84  36  60  24  20  28   8   4]\n",
      "This is radprofile\n",
      "[1. 1. 1. 1. 1. 1. 1. 1. 1. 1. 1. 1. 1. 1. 1. 1. 1. 1. 1. 1. 1. 1. 1. 1.\n",
      " 1. 1. 1. 1. 1. 1. 1. 1. 1. 1. 1. 1. 1. 1. 1. 1. 1. 1. 1. 1. 1. 1. 1. 1.\n",
      " 1. 1. 1. 1. 1. 1. 1. 1. 1. 1. 1. 1. 1. 1. 1. 1. 1. 1. 1. 1. 1. 1. 1. 1.\n",
      " 1. 1. 1. 1. 1. 1. 1. 1. 1. 1. 1. 1. 1. 1. 1. 1. 1. 1. 1. 1. 1. 1. 1. 1.\n",
      " 1. 1. 1. 1. 1. 1. 1. 1. 1. 1. 1. 1. 1. 1. 1. 1. 1. 1. 1. 1. 1. 1. 1. 1.\n",
      " 1. 1. 1. 1. 1. 1. 1. 1. 1. 1. 1. 1. 1. 1. 1. 1. 1. 1. 1. 1. 1. 1. 1. 1.\n",
      " 1. 1. 1. 1. 1. 1. 1. 1. 1. 1. 1. 1. 1. 1. 1. 1. 1. 1. 1. 1. 1. 1. 1. 1.\n",
      " 1. 1. 1. 1. 1. 1. 1. 1. 1. 1. 1. 1. 1. 1. 1. 1. 1. 1. 1. 1. 1. 1. 1. 1.\n",
      " 1. 1. 1. 1. 1. 1. 1. 1. 1. 1. 1. 1. 1. 1. 1. 1. 1. 1. 1. 1. 1.]\n",
      "213\n"
     ]
    },
    {
     "data": {
      "image/png": "[encoded data removed]",
      "text/plain": [
       "<Figure size 432x288 with 1 Axes>"
      ]
     },
     "metadata": {
      "needs_background": "light"
     },
     "output_type": "display_data"
    }
   ],
   "source": [
    "from astropy.io import fits\n",
    "import numpy as np\n",
    "import matplotlib.pyplot as plt\n",
    "from matplotlib.ticker import AutoMinorLocator\n",
    "\n",
    "minorLocator = AutoMinorLocator()\n",
    "\n",
    "\n",
    "def radial_profile(data, center):\n",
    "    print(data)\n",
    "    x, y = np.indices((data.shape), dtype='int64')\n",
    "    print(\"This is x\")\n",
    "    print(x)\n",
    "    print(\"This is y\")\n",
    "    print(y)\n",
    "    r = np.sqrt((x - center[0])**2 + (y - center[1])**2)\n",
    "    r = r.astype(int)\n",
    "    print(\"This is r\")\n",
    "    print(r)\n",
    "    print(\"This is r.ravel()\")\n",
    "    print(r.ravel())\n",
    "    print(\"This is data.ravel()\")\n",
    "    print(data.ravel())\n",
    "    tbin = np.bincount(r.ravel(), data.ravel())\n",
    "    print(\"This is tbin\")\n",
    "    print(tbin)\n",
    "    nr = np.bincount(r.ravel())\n",
    "    print(\"This is nr\")\n",
    "    print(nr)\n",
    "    radialprofile = tbin / nr\n",
    "    print(\"This is radprofile\")\n",
    "    print(radialprofile)\n",
    "    return radialprofile \n",
    "\n",
    "\n",
    "fitsFile = fits.open('ILC_stack_spiders_seed_162_70-545.fits')\n",
    "img = fitsFile[0].data\n",
    "img[np.isnan(img)] = 0\n",
    "#print(img[125][125])\n",
    "\n",
    "#print(img[150])\n",
    "#center = np.unravel_index(img.argmax(), img.shape)\n",
    "#center = (img[150][])\n",
    "center = (150, 150)\n",
    "rad_profile = radial_profile(img, center)\n",
    "print(len(rad_profile))\n",
    "#print(rad_profile)\n",
    "fig, ax = plt.subplots()\n",
    "plt.plot(rad_profile[0:55], 'x-')\n",
    "\n",
    "ax.xaxis.set_minor_locator(minorLocator)\n",
    "\n",
    "plt.tick_params(which='both', width=2)\n",
    "plt.tick_params(which='major', length=7)\n",
    "plt.tick_params(which='minor', length=4, color='r')\n",
    "plt.grid()\n",
    "#ax.set_ylabel(fitsFile[0].header['Label'] + \" (\" + fitsFile[0].header['BUNIT'] + \")\")\n",
    "ax.set_xlabel(\"Pixels\")\n",
    "plt.grid(which=\"minor\")\n",
    "plt.show()"
   ]
  },
  {
   "cell_type": "code",
   "execution_count": null,
   "metadata": {},
   "outputs": [],
   "source": []
  }
 ],
 "metadata": {
  "kernelspec": {
   "display_name": "Python 3.8.10 64-bit",
   "language": "python",
   "name": "python3"
  },
  "language_info": {
   "codemirror_mode": {
    "name": "ipython",
    "version": 3
   },
   "file_extension": ".py",
   "mimetype": "text/x-python",
   "name": "python",
   "nbconvert_exporter": "python",
   "pygments_lexer": "ipython3",
   "version": "3.8.10"
  },
  "orig_nbformat": 4,
  "vscode": {
   "interpreter": {
    "hash": "916dbcbb3f70747c44a77c7bcd40155683ae19c65e1c03b4aa3499c5328201f1"
   }
  }
 },
 "nbformat": 4,
 "nbformat_minor": 2
}
