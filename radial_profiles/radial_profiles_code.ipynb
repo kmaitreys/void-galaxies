{
 "cells": [
  {
   "cell_type": "code",
   "execution_count": 16,
   "metadata": {},
   "outputs": [
    {
     "ename": "ValueError",
     "evalue": "not enough values to unpack (expected 2, got 1)",
     "output_type": "error",
     "traceback": [
      "\u001b[0;31m---------------------------------------------------------------------------\u001b[0m",
      "\u001b[0;31mValueError\u001b[0m                                Traceback (most recent call last)",
      "\u001b[1;32m/home/peakcipher/projects/t.ghosh/void_galaxies/radial_profiles/radial_profiles_code.ipynb Cell 1'\u001b[0m in \u001b[0;36m<cell line: 32>\u001b[0;34m()\u001b[0m\n\u001b[1;32m     <a href='vscode-notebook-cell://wsl%2Bubuntu/home/peakcipher/projects/t.ghosh/void_galaxies/radial_profiles/radial_profiles_code.ipynb#ch0000000vscode-remote?line=29'>30</a>\u001b[0m center \u001b[39m=\u001b[39m np\u001b[39m.\u001b[39munravel_index(img\u001b[39m.\u001b[39margmax(), img\u001b[39m.\u001b[39mshape)\n\u001b[1;32m     <a href='vscode-notebook-cell://wsl%2Bubuntu/home/peakcipher/projects/t.ghosh/void_galaxies/radial_profiles/radial_profiles_code.ipynb#ch0000000vscode-remote?line=30'>31</a>\u001b[0m \u001b[39m#center = (-fitsFile[0].header['LBOUND2']+1, -fitsFile[0].header['LBOUND1']+1)\u001b[39;00m\n\u001b[0;32m---> <a href='vscode-notebook-cell://wsl%2Bubuntu/home/peakcipher/projects/t.ghosh/void_galaxies/radial_profiles/radial_profiles_code.ipynb#ch0000000vscode-remote?line=31'>32</a>\u001b[0m rad_profile \u001b[39m=\u001b[39m radial_profile(img, center)\n\u001b[1;32m     <a href='vscode-notebook-cell://wsl%2Bubuntu/home/peakcipher/projects/t.ghosh/void_galaxies/radial_profiles/radial_profiles_code.ipynb#ch0000000vscode-remote?line=33'>34</a>\u001b[0m fig, ax \u001b[39m=\u001b[39m plt\u001b[39m.\u001b[39msubplots()\n\u001b[1;32m     <a href='vscode-notebook-cell://wsl%2Bubuntu/home/peakcipher/projects/t.ghosh/void_galaxies/radial_profiles/radial_profiles_code.ipynb#ch0000000vscode-remote?line=34'>35</a>\u001b[0m plt\u001b[39m.\u001b[39mplot(rad_profile[\u001b[39m0\u001b[39m:\u001b[39m22\u001b[39m], \u001b[39m'\u001b[39m\u001b[39mx-\u001b[39m\u001b[39m'\u001b[39m)\n",
      "\u001b[1;32m/home/peakcipher/projects/t.ghosh/void_galaxies/radial_profiles/radial_profiles_code.ipynb Cell 1'\u001b[0m in \u001b[0;36mradial_profile\u001b[0;34m(data, center)\u001b[0m\n\u001b[1;32m     <a href='vscode-notebook-cell://wsl%2Bubuntu/home/peakcipher/projects/t.ghosh/void_galaxies/radial_profiles/radial_profiles_code.ipynb#ch0000000vscode-remote?line=14'>15</a>\u001b[0m \u001b[39mdef\u001b[39;00m \u001b[39mradial_profile\u001b[39m(data, center):\n\u001b[0;32m---> <a href='vscode-notebook-cell://wsl%2Bubuntu/home/peakcipher/projects/t.ghosh/void_galaxies/radial_profiles/radial_profiles_code.ipynb#ch0000000vscode-remote?line=15'>16</a>\u001b[0m     x, y \u001b[39m=\u001b[39m np\u001b[39m.\u001b[39mindices((data\u001b[39m.\u001b[39mshape))\n\u001b[1;32m     <a href='vscode-notebook-cell://wsl%2Bubuntu/home/peakcipher/projects/t.ghosh/void_galaxies/radial_profiles/radial_profiles_code.ipynb#ch0000000vscode-remote?line=16'>17</a>\u001b[0m     r \u001b[39m=\u001b[39m np\u001b[39m.\u001b[39msqrt((x \u001b[39m-\u001b[39m center[\u001b[39m0\u001b[39m])\u001b[39m*\u001b[39m\u001b[39m*\u001b[39m\u001b[39m2\u001b[39m \u001b[39m+\u001b[39m (y \u001b[39m-\u001b[39m center[\u001b[39m1\u001b[39m])\u001b[39m*\u001b[39m\u001b[39m*\u001b[39m\u001b[39m2\u001b[39m)\n\u001b[1;32m     <a href='vscode-notebook-cell://wsl%2Bubuntu/home/peakcipher/projects/t.ghosh/void_galaxies/radial_profiles/radial_profiles_code.ipynb#ch0000000vscode-remote?line=17'>18</a>\u001b[0m     r \u001b[39m=\u001b[39m r\u001b[39m.\u001b[39mastype(np\u001b[39m.\u001b[39mint)\n",
      "\u001b[0;31mValueError\u001b[0m: not enough values to unpack (expected 2, got 1)"
     ]
    }
   ],
   "source": [
    "import numpy as np\n",
    "import matplotlib.pyplot as plt\n",
    "from astropy.io import fits\n",
    "\n",
    "xnew = np.linspace(-6, 6, 301)\n",
    "ynew = np.linspace(-6, 6, 301)\n",
    "\n",
    "xnew, ynew = np.meshgrid(xnew, ynew)\n",
    "\n",
    "from matplotlib.ticker import AutoMinorLocator\n",
    "\n",
    "minorLocator = AutoMinorLocator()\n",
    "\n",
    "\n",
    "def radial_profile(data, center):\n",
    "    x, y = np.indices((data.shape))\n",
    "    r = np.sqrt((x - center[0])**2 + (y - center[1])**2)\n",
    "    r = r.astype(np.int)\n",
    "\n",
    "    tbin = np.bincount(r.ravel(), data.ravel())\n",
    "    nr = np.bincount(r.ravel())\n",
    "    radialprofile = tbin / nr\n",
    "    return radialprofile \n",
    "\n",
    "\n",
    "fitsFile = fits.open('ILC_stack_spiders_seed_162_70-545.fits')\n",
    "img = fitsFile[0].data[0]\n",
    "img[np.isnan(img)] = 0\n",
    "\n",
    "center = np.unravel_index(img.argmax(), img.shape)\n",
    "#center = (-fitsFile[0].header['LBOUND2']+1, -fitsFile[0].header['LBOUND1']+1)\n",
    "rad_profile = radial_profile(img, center)\n",
    "\n",
    "fig, ax = plt.subplots()\n",
    "plt.plot(rad_profile[0:22], 'x-')\n",
    "\n",
    "ax.xaxis.set_minor_locator(minorLocator)\n",
    "\n",
    "plt.tick_params(which='both', width=2)\n",
    "plt.tick_params(which='major', length=7)\n",
    "plt.tick_params(which='minor', length=4, color='r')\n",
    "plt.grid()\n",
    "ax.set_ylabel(fitsFile[0].header['Label'] + \" (\" + fitsFile[0].header['BUNIT'] + \")\")\n",
    "ax.set_xlabel(\"Pixels\")\n",
    "plt.grid(which=\"minor\")\n",
    "plt.show()\n",
    "\n"
   ]
  },
  {
   "cell_type": "code",
   "execution_count": 12,
   "metadata": {},
   "outputs": [],
   "source": [
    "\n",
    "hdul = fits.open('ILC_stack_spiders_seed_162_70-545.fits')"
   ]
  },
  {
   "cell_type": "code",
   "execution_count": 13,
   "metadata": {},
   "outputs": [
    {
     "name": "stdout",
     "output_type": "stream",
     "text": [
      "Filename: ILC_stack_spiders_seed_162_70-545.fits\n",
      "No.    Name      Ver    Type      Cards   Dimensions   Format\n",
      "  0  PRIMARY       1 PrimaryHDU      13   (301, 301)   float64   \n"
     ]
    }
   ],
   "source": [
    "hdul.info()"
   ]
  },
  {
   "cell_type": "code",
   "execution_count": 14,
   "metadata": {},
   "outputs": [
    {
     "name": "stdout",
     "output_type": "stream",
     "text": [
      "SIMPLE  =                    T / conforms to FITS standard                      \n",
      "BITPIX  =                  -64 / array data type                                \n",
      "NAXIS   =                    2 / number of array dimensions                     \n",
      "NAXIS1  =                  301                                                  \n",
      "NAXIS2  =                  301                                                  \n",
      "EXTEND  =                    T                                                  \n",
      "NGAL    = '45      '                                                            \n",
      "FSKY    = '86 percent'                                                          \n",
      "YSZ     = 'planck  '                                                            \n",
      "ILCSTART= '70      '                                                            \n",
      "ILCSTOP = '545     '                                                            \n",
      "WEIGHTS = '[[-0.0010 -0.0090 -0.2775 0.2633 0.0294 -0.0031]]'                   \n",
      "DATE    = '16-2-2022'                                                           \n"
     ]
    }
   ],
   "source": [
    "hdr = hdul[0].header\n",
    "print(repr(hdr))"
   ]
  },
  {
   "cell_type": "code",
   "execution_count": null,
   "metadata": {},
   "outputs": [],
   "source": []
  }
 ],
 "metadata": {
  "kernelspec": {
   "display_name": "Python 3.8.10 64-bit",
   "language": "python",
   "name": "python3"
  },
  "language_info": {
   "codemirror_mode": {
    "name": "ipython",
    "version": 3
   },
   "file_extension": ".py",
   "mimetype": "text/x-python",
   "name": "python",
   "nbconvert_exporter": "python",
   "pygments_lexer": "ipython3",
   "version": "3.8.10"
  },
  "orig_nbformat": 4,
  "vscode": {
   "interpreter": {
    "hash": "916dbcbb3f70747c44a77c7bcd40155683ae19c65e1c03b4aa3499c5328201f1"
   }
  }
 },
 "nbformat": 4,
 "nbformat_minor": 2
}
