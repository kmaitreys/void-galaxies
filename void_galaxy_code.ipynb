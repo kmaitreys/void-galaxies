{
 "cells": [
  {
   "cell_type": "markdown",
   "metadata": {},
   "source": [
    "1. Get galactic coordinates from ra and dec given in ```public_void_catalog.dat```\n",
    "2. The comoving distance $d$ can be found then by doing $d = \\sqrt{x^2 + y^2 + z^2}$ using the $x$, $y$ and $z$ given in the same catalog.\n",
    "\n",
    "As a result we have all the coordinates for every void centre."
   ]
  },
  {
   "cell_type": "markdown",
   "metadata": {},
   "source": [
    "3. "
   ]
  },
  {
   "cell_type": "code",
   "execution_count": 28,
   "metadata": {},
   "outputs": [],
   "source": [
    "import os\n",
    "import numpy as np\n",
    "from astropy.cosmology import FlatLambdaCDM\n",
    "from astropy.coordinates import SkyCoord\n",
    "from astropy import units as u\n",
    "from astropy.table import QTable\n",
    "\n",
    "cosmo = FlatLambdaCDM(H0 = 70, Om0 = 0.27, Tcmb0 = 2.725)\n",
    "\n",
    "# importing void and galaxy data\n",
    "\n",
    "data_gal = np.loadtxt('maglim_void_galaxies.txt')\n",
    "data_void = np.loadtxt('public_void_catalog.txt')\n",
    "\n",
    "# stripping the data\n",
    "\n",
    "rdshft_gal = data_gal[:, 2] #redshift of void galaxies\n",
    "#cmvdist_gal = data_gal[:, 3] #comoving distance of void galaxies\n",
    "\n",
    "x_void = data_void[:, 2] \n",
    "y_void = data_void[:, 3]\n",
    "z_void = data_void[:, 4]\n",
    "void_radius = data_void[:, 5] \n",
    "\n",
    "x_gal = data_gal[:, 6]\n",
    "y_gal = data_gal[:, 7]\n",
    "z_gal = data_gal[:, 8]\n",
    "\n",
    "#print(cmvdist_gal)\n",
    "\n",
    "#following code to check if comoving distances are same as given in catalog\n",
    "cmvdist_gal = np.sqrt(x_gal**2+y_gal**2+z_gal**2)*0.7\n",
    "cmvdist_void  = np.sqrt(x_void**2+y_void**2+z_void**2)*0.7\n",
    "\n",
    "\n",
    "#arr1 = cosmo.comoving_distance(rdshft_gal) #this does not give same distances as given in catalog\n",
    "\n",
    "#print(arr1)\n",
    "\n",
    "#following part does calculation of galactic coordinates but I ended up not using them\n",
    "\n",
    "ra_void = data_void[:, 0]\n",
    "dec_void = data_void[:, 1]\n",
    "\n",
    "c_icrs = SkyCoord(ra=ra_void*u.degree, dec=dec_void*u.degree, frame='icrs')\n",
    "\n",
    "galcoord_void = c_icrs.galactic\n",
    "\n",
    "#following wrote the gal long and gal lat into a .ecsv file from where I then imported the values\n",
    "t = QTable([galcoord_void], names=[\"skycoord\"])\n",
    "#t.write('galcoord_void.ecsv')\n",
    "\n",
    "galcoord_void_data = np.loadtxt('galcoord_void.ecsv')\n",
    "\n",
    "l_void = galcoord_void_data[:, 0]\n",
    "b_void = galcoord_void_data[:, 1]\n",
    "\n",
    "\n",
    "\n",
    "coord_void = []\n",
    "for i in range(len(l_void)):\n",
    "    coord1 = []\n",
    "    coord1.append(cmvdist_void[i])\n",
    "    coord1.append(l_void[i])\n",
    "    coord1.append(b_void[i])\n",
    "    coord_void.append(coord1)\n",
    "\n",
    "\n",
    "#print(coord_void)\n",
    "\n",
    "\n",
    "\n",
    "\n"
   ]
  },
  {
   "cell_type": "code",
   "execution_count": 29,
   "metadata": {},
   "outputs": [],
   "source": [
    "# same as above, but for galaxies\n",
    "\n",
    "ra_gal = data_gal[:, 0]\n",
    "dec_gal = data_gal[:, 1]\n",
    "\n",
    "c_icrs1 = SkyCoord(ra=ra_gal*u.degree, dec=dec_gal*u.degree, frame='icrs')\n",
    "\n",
    "galcoord_gal = c_icrs1.galactic\n",
    "\n",
    "\n",
    "t = QTable([galcoord_gal], names=[\"skycoord\"])\n",
    "#t.write('galcoord_gal.ecsv')"
   ]
  },
  {
   "cell_type": "code",
   "execution_count": 30,
   "metadata": {},
   "outputs": [],
   "source": [
    "galcoord_gal_data = np.loadtxt('galcoord_gal.ecsv')\n",
    "\n",
    "l_gal = galcoord_gal_data[:, 0]\n",
    "b_gal = galcoord_gal_data[:, 1]\n",
    "\n",
    "coord_gal = []\n",
    "for i in range(len(l_gal)):\n",
    "    coord1 = []\n",
    "    coord1.append(cmvdist_gal[i])\n",
    "    coord1.append(l_gal[i])\n",
    "    coord1.append(b_gal[i])\n",
    "    coord_gal.append(coord1)\n",
    "\n",
    "\n"
   ]
  },
  {
   "cell_type": "code",
   "execution_count": 31,
   "metadata": {},
   "outputs": [
    {
     "name": "stdout",
     "output_type": "stream",
     "text": [
      "1055\n",
      "79947\n",
      "[102.17899562 135.46399818 163.54800084 ... 149.24699907 172.41699532\n",
      " 175.20999912]\n"
     ]
    }
   ],
   "source": [
    "print(len(coord_void))\n",
    "print(len(coord_gal))\n",
    "print(cmvdist_gal)"
   ]
  },
  {
   "cell_type": "markdown",
   "metadata": {},
   "source": [
    "Find distance of each void galaxy from each void centre (take a void centre and calculate its distance to every void galaxy, then move on to next void centre). Set a threshold/cut-off value here, disregarding all the galaxies, and a preliminary filter will be complete"
   ]
  },
  {
   "cell_type": "code",
   "execution_count": null,
   "metadata": {},
   "outputs": [],
   "source": [
    "#this is the main code, nothing special, just uses separation_3d to find distance between 2 points. \n",
    "\n",
    "voidGalxies = []\n",
    "\n",
    "\n",
    "for i in range(len(coord_void)):\n",
    "    for j in range(len(coord_gal)):\n",
    "        c1 = SkyCoord(ra=ra_gal[j]*u.degree, dec=dec_gal[j]*u.degree, distance=cmvdist_gal[j]*u.Mpc)\n",
    "        c2 = SkyCoord(ra=ra_void[i]*u.degree, dec=dec_void[i]*u.degree, distance=cmvdist_void[i]*u.Mpc)\n",
    "        dist1 = c1.separation_3d(c2)\n",
    "        if dist1<=void_radius[i]*u.Mpc:\n",
    "            voidGalxies.append((i+1, j, dist1, void_radius[i]))\n",
    "\n",
    "print(voidGalxies)\n"
   ]
  },
  {
   "cell_type": "code",
   "execution_count": 39,
   "metadata": {},
   "outputs": [],
   "source": [
    "voidGalxies = []\n",
    "col_format = \"{:<25}\" * 2 + \"\\n\"\n",
    "\n",
    "for i in range(len(coord_void)):#range(len(coord_void)):\n",
    "    c2 = SkyCoord(ra=ra_gal*u.degree, dec=dec_gal*u.degree, distance=cmvdist_gal*u.Mpc)\n",
    "    c1 = SkyCoord(ra=ra_void[i]*u.degree, dec=dec_void[i]*u.degree, distance=cmvdist_void[i]*u.Mpc)\n",
    "    dist = c1.separation_3d(c2)\n",
    "    frac_dist = dist.value/void_radius[i]\n",
    "    #print(dist)\n",
    "    #print(len(dist))\n",
    "    with open(os.path.join(\"/home/peakcipher/projects/t.ghosh/void_galaxies/void_data\",\"void_Number{}.txt\".format(i+1)), \"w\") as f:\n",
    "        for j in zip(dist.value, frac_dist):\n",
    "        #for j in range(len(dist)):\n",
    "            f.write(col_format.format(*j))\n",
    "            #f.write(\"%s\\n\" % dist.value[j])\n",
    "    #dist1 would be of the size of Ngal\n",
    "    #voidGalxies.append((i+1, j, dist1, void_radius[i]))\n",
    "    #print(np.size(dist)==np.size(ra_gal))"
   ]
  },
  {
   "cell_type": "code",
   "execution_count": null,
   "metadata": {},
   "outputs": [],
   "source": []
  }
 ],
 "metadata": {
  "kernelspec": {
   "display_name": "Python 3.8.10 64-bit",
   "language": "python",
   "name": "python3"
  },
  "language_info": {
   "codemirror_mode": {
    "name": "ipython",
    "version": 3
   },
   "file_extension": ".py",
   "mimetype": "text/x-python",
   "name": "python",
   "nbconvert_exporter": "python",
   "pygments_lexer": "ipython3",
   "version": "3.8.10"
  },
  "orig_nbformat": 4,
  "vscode": {
   "interpreter": {
    "hash": "31f2aee4e71d21fbe5cf8b01ff0e069b9275f58929596ceb00d14d90e3e16cd6"
   }
  }
 },
 "nbformat": 4,
 "nbformat_minor": 2
}
